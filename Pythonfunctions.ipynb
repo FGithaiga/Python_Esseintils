{
 "cells": [
  {
   "cell_type": "code",
   "execution_count": 9,
   "id": "6d64cc1c-84a8-4074-893a-5baff52d3143",
   "metadata": {},
   "outputs": [
    {
     "ename": "NameError",
     "evalue": "name 'cities' is not defined",
     "output_type": "error",
     "traceback": [
      "\u001b[1;31m---------------------------------------------------------------------------\u001b[0m",
      "\u001b[1;31mNameError\u001b[0m                                 Traceback (most recent call last)",
      "Cell \u001b[1;32mIn[9], line 10\u001b[0m\n\u001b[0;32m      6\u001b[0m \u001b[38;5;28;01mimport\u001b[39;00m \u001b[38;5;21;01mmatplotlib\u001b[39;00m\u001b[38;5;21;01m.\u001b[39;00m\u001b[38;5;21;01mpyplot\u001b[39;00m \u001b[38;5;28;01mas\u001b[39;00m \u001b[38;5;21;01mplt\u001b[39;00m\n\u001b[0;32m      8\u001b[0m get_ipython()\u001b[38;5;241m.\u001b[39mrun_line_magic(\u001b[38;5;124m'\u001b[39m\u001b[38;5;124mmatplotlib\u001b[39m\u001b[38;5;124m'\u001b[39m, \u001b[38;5;124m'\u001b[39m\u001b[38;5;124minline\u001b[39m\u001b[38;5;124m'\u001b[39m)\n\u001b[1;32m---> 10\u001b[0m x_values \u001b[38;5;241m=\u001b[39m [cities[\u001b[38;5;241m0\u001b[39m][\u001b[38;5;124m'\u001b[39m\u001b[38;5;124mCity\u001b[39m\u001b[38;5;124m'\u001b[39m], cities[\u001b[38;5;241m1\u001b[39m][\u001b[38;5;124m'\u001b[39m\u001b[38;5;124mCity\u001b[39m\u001b[38;5;124m'\u001b[39m], cities[\u001b[38;5;241m2\u001b[39m][\u001b[38;5;124m'\u001b[39m\u001b[38;5;124mCity\u001b[39m\u001b[38;5;124m'\u001b[39m]]\n\u001b[0;32m     11\u001b[0m y_values \u001b[38;5;241m=\u001b[39m [cities[\u001b[38;5;241m0\u001b[39m][\u001b[38;5;124m'\u001b[39m\u001b[38;5;124mPopulation\u001b[39m\u001b[38;5;124m'\u001b[39m], cities[\u001b[38;5;241m1\u001b[39m][\u001b[38;5;124m'\u001b[39m\u001b[38;5;124mPopulation\u001b[39m\u001b[38;5;124m'\u001b[39m], cities[\u001b[38;5;241m2\u001b[39m][\u001b[38;5;124m'\u001b[39m\u001b[38;5;124mPopulation\u001b[39m\u001b[38;5;124m'\u001b[39m]]\n\u001b[0;32m     13\u001b[0m plt\u001b[38;5;241m.\u001b[39mbar(x_values, y_values)\n",
      "\u001b[1;31mNameError\u001b[0m: name 'cities' is not defined"
     ]
    }
   ],
   "source": [
    "import pandas as pd\n",
    "value =pd.read_csv(r\"C:\\Users\\Admin\\Downloads\\cities (12).csv\")\n",
    "#print(value)\n",
    "\n",
    "\n",
    "import matplotlib.pyplot as plt\n",
    "\n",
    "%matplotlib inline\n",
    "\n",
    "x_values = [cities[0]['City'], cities[1]['City'], cities[2]['City']]\n",
    "y_values = [cities[0]['Population'], cities[1]['Population'], cities[2]['Population']]\n",
    "\n",
    "plt.bar(x_values, y_values)\n",
    "plt.ylabel('Population')\n",
    "plt.xlabel('cities')\n",
    "plt.title('City Populations')\n",
    "\n",
    "plt.show()"
   ]
  },
  {
   "cell_type": "code",
   "execution_count": 29,
   "id": "dcedacd4-f1fe-4fa7-bf68-bf5447a930c6",
   "metadata": {},
   "outputs": [
    {
     "name": "stdout",
     "output_type": "stream",
     "text": [
      "0\n",
      "1\n",
      "2\n",
      "3\n",
      "4\n",
      "Githaiga\n",
      "Francis\n",
      "Abdi\n",
      "Jane\n",
      "John\n"
     ]
    }
   ],
   "source": [
    "\n",
    "names=['Githaiga','Francis','Abdi','Jane','John']\n",
    "nums=[0,1,2,3,4]\n",
    "len(names)\n",
    "for num in nums:\n",
    "    print(num)\n",
    "for name in names:\n",
    "    print(name)"
   ]
  },
  {
   "cell_type": "code",
   "execution_count": 66,
   "id": "85651109-4b5e-4edb-b3bf-73da8cdfd0c8",
   "metadata": {},
   "outputs": [
    {
     "name": "stdout",
     "output_type": "stream",
     "text": [
      "index: 0, name: Githaga\n",
      "index: 1, name: Francis\n",
      "index: 2, name: Abdi\n",
      "index: 3, name: John\n"
     ]
    },
    {
     "ename": "IndexError",
     "evalue": "list index out of range",
     "output_type": "error",
     "traceback": [
      "\u001b[1;31m---------------------------------------------------------------------------\u001b[0m",
      "\u001b[1;31mIndexError\u001b[0m                                Traceback (most recent call last)",
      "Cell \u001b[1;32mIn[66], line 6\u001b[0m\n\u001b[0;32m      4\u001b[0m names\u001b[38;5;241m.\u001b[39mpop()\n\u001b[0;32m      5\u001b[0m \u001b[38;5;28;01mfor\u001b[39;00m num \u001b[38;5;129;01min\u001b[39;00m nums:\n\u001b[1;32m----> 6\u001b[0m     \u001b[38;5;28mprint\u001b[39m(\u001b[38;5;124mf\u001b[39m\u001b[38;5;124m\"\u001b[39m\u001b[38;5;124mindex: \u001b[39m\u001b[38;5;132;01m{\u001b[39;00mnum\u001b[38;5;132;01m}\u001b[39;00m\u001b[38;5;124m, name: \u001b[39m\u001b[38;5;132;01m{\u001b[39;00mnames[num]\u001b[38;5;132;01m}\u001b[39;00m\u001b[38;5;124m\"\u001b[39m)\n",
      "\u001b[1;31mIndexError\u001b[0m: list index out of range"
     ]
    }
   ],
   "source": [
    "names = [\"Githaga\",\"Francis\",\"Abdi\",\"Jane\",\"John\",]\n",
    "nums =[0,1,2,3,4]\n",
    "char=['a','b','c','d','e']\n",
    "names.pop()\n",
    "for num in nums:\n",
    "    print(f\"index: {num}, name: {names[num]}\")\n"
   ]
  },
  {
   "cell_type": "code",
   "execution_count": 88,
   "id": "bbd90ba9-e2fd-46cd-8ba9-7b0d8e7cf5c8",
   "metadata": {},
   "outputs": [
    {
     "name": "stdout",
     "output_type": "stream",
     "text": [
      "0\n",
      "1\n",
      "2\n",
      "3\n",
      "4\n",
      "\n",
      "\n",
      "Githaga\n",
      "Francis\n",
      "Abdi\n",
      "Jane\n"
     ]
    },
    {
     "ename": "IndexError",
     "evalue": "list index out of range",
     "output_type": "error",
     "traceback": [
      "\u001b[1;31m---------------------------------------------------------------------------\u001b[0m",
      "\u001b[1;31mIndexError\u001b[0m                                Traceback (most recent call last)",
      "Cell \u001b[1;32mIn[88], line 13\u001b[0m\n\u001b[0;32m     11\u001b[0m \u001b[38;5;28mprint\u001b[39m(names[\u001b[38;5;241m2\u001b[39m])\n\u001b[0;32m     12\u001b[0m \u001b[38;5;28mprint\u001b[39m(names[\u001b[38;5;241m3\u001b[39m])\n\u001b[1;32m---> 13\u001b[0m \u001b[38;5;28mprint\u001b[39m(names[\u001b[38;5;241m4\u001b[39m])\n",
      "\u001b[1;31mIndexError\u001b[0m: list index out of range"
     ]
    }
   ],
   "source": [
    "names = [\"Githaga\",\"Francis\",\"Abdi\",\"Jane\"]\n",
    "nums =[0,1,2,3,4]\n",
    "print(nums[0])\n",
    "print(nums[1])\n",
    "print(nums[2])\n",
    "print(nums[3])\n",
    "print(nums[4])\n",
    "print('\\n')\n",
    "print(names[0])\n",
    "print(names[1])\n",
    "print(names[2])\n",
    "print(names[3])\n",
    "print(names[4])"
   ]
  },
  {
   "cell_type": "code",
   "execution_count": 102,
   "id": "2312cc7c-9c4c-45e7-9ec0-139dbed1a0cf",
   "metadata": {},
   "outputs": [
    {
     "name": "stdout",
     "output_type": "stream",
     "text": [
      "0\n",
      "Githaga\n",
      "1\n",
      "Francis\n",
      "2\n",
      "Abdi\n",
      "3\n",
      "Jane\n",
      "4\n"
     ]
    },
    {
     "ename": "IndexError",
     "evalue": "list index out of range",
     "output_type": "error",
     "traceback": [
      "\u001b[1;31m---------------------------------------------------------------------------\u001b[0m",
      "\u001b[1;31mIndexError\u001b[0m                                Traceback (most recent call last)",
      "Cell \u001b[1;32mIn[102], line 3\u001b[0m\n\u001b[0;32m      1\u001b[0m \u001b[38;5;28;01mfor\u001b[39;00m num \u001b[38;5;129;01min\u001b[39;00m nums :\n\u001b[0;32m      2\u001b[0m     \u001b[38;5;28mprint\u001b[39m(num)\n\u001b[1;32m----> 3\u001b[0m     \u001b[38;5;28mprint\u001b[39m(names[num])\n",
      "\u001b[1;31mIndexError\u001b[0m: list index out of range"
     ]
    }
   ],
   "source": [
    "for num in nums :\n",
    "    print(num)\n",
    "    print(names[num])\n",
    "    #print('Index:',num, 'Name:', names[num])"
   ]
  },
  {
   "cell_type": "code",
   "execution_count": 104,
   "id": "23dda10e-bb10-488c-9399-bb51f9ed14a7",
   "metadata": {
    "scrolled": true
   },
   "outputs": [
    {
     "name": "stdout",
     "output_type": "stream",
     "text": [
      "Index: 0 Name: Githaga\n",
      "Index: 1 Name: Francis\n",
      "Index: 2 Name: Abdi\n",
      "Index: 3 Name: Jane\n"
     ]
    }
   ],
   "source": [
    "names = [\"Githaga\",\"Francis\",\"Abdi\",\"Jane\"]\n",
    "nums =[0,1,2,3,4]\n",
    "for index, name in enumerate(names):\n",
    "    print('Index:',index,'Name:',name)"
   ]
  },
  {
   "cell_type": "code",
   "execution_count": 110,
   "id": "11989adb-8ef5-4f1a-bbe1-6997a323e708",
   "metadata": {},
   "outputs": [
    {
     "name": "stdout",
     "output_type": "stream",
     "text": [
      "1 0\n",
      "2 0\n",
      "2 1\n",
      "3 0\n",
      "3 1\n",
      "3 2\n",
      "4 0\n",
      "4 1\n",
      "4 2\n",
      "4 3\n",
      "5 0\n",
      "5 1\n",
      "5 2\n",
      "5 3\n",
      "5 4\n",
      "6 0\n",
      "6 1\n",
      "6 2\n",
      "6 3\n",
      "6 4\n",
      "6 5\n",
      "7 0\n",
      "7 1\n",
      "7 2\n",
      "7 3\n",
      "7 4\n",
      "7 5\n",
      "7 6\n",
      "8 0\n",
      "8 1\n",
      "8 2\n",
      "8 3\n",
      "8 4\n",
      "8 5\n",
      "8 6\n",
      "8 7\n",
      "9 0\n",
      "9 1\n",
      "9 2\n",
      "9 3\n",
      "9 4\n",
      "9 5\n",
      "9 6\n",
      "9 7\n",
      "9 8\n"
     ]
    }
   ],
   "source": [
    "#Nested for loop is a for loop inside a foor loop\n",
    "for i in range(0,10):\n",
    "    for j in range(0,i):\n",
    "        print(i,j)\n",
    "    \n"
   ]
  },
  {
   "cell_type": "code",
   "execution_count": null,
   "id": "b64cfaf7-4c6f-48ed-88a4-6b2ad95d9992",
   "metadata": {},
   "outputs": [],
   "source": []
  },
  {
   "cell_type": "code",
   "execution_count": 152,
   "id": "076c2765-4e3f-4d4c-aaaa-f24bbf800a56",
   "metadata": {},
   "outputs": [
    {
     "name": "stdin",
     "output_type": "stream",
     "text": [
      "Enter You Name: John Doe\n",
      "Enter Your Email: johndoe@student.moringaschool.com\n"
     ]
    },
    {
     "name": "stdout",
     "output_type": "stream",
     "text": [
      "Name: John Doe Email: john.doe@student.moringaschool.com\n"
     ]
    }
   ],
   "source": [
    "# Create a programe that takes students subjects scores,calculates average score, grades the score and gives a comment. Prints out the name ,average score, gade and comment.Promt the user to parse the name\n",
    "#Function:is a piece of code that performs something/particular task.\n",
    "#parameter:variables listed inside a parantheses in a function definition.\n",
    "#Argument:actual values passed to a function.\n",
    "#input prompts an input form the user\n",
    "#and both conditions have to be true\n",
    "#or checks if one is true\n",
    "\n",
    "def std_details(name,email):\n",
    "    name='John Doe'\n",
    "    email='john.doe@student.moringaschool.com'\n",
    "    print(f'Name: {name} Email: {email}')\n",
    "    \n",
    "name=input('Enter You Name:')\n",
    "email= input('Enter Your Email:')\n",
    "\n",
    "std_details(name,email)\n",
    "\n"
   ]
  },
  {
   "cell_type": "code",
   "execution_count": 136,
   "id": "7af000d9-15ab-4e37-aed5-267585c87438",
   "metadata": {},
   "outputs": [
    {
     "name": "stdin",
     "output_type": "stream",
     "text": [
      "Enter Your Name: John Doe\n",
      "Enter Your Email: johndoe@student.moringaschool.com\n"
     ]
    }
   ],
   "source": [
    "#std_details('John Doe','johndoe@student.moringaschool.com')\n",
    "\n",
    "name= input('Enter Your Name:')\n",
    "email= input(\"Enter Your Email:\")"
   ]
  },
  {
   "cell_type": "code",
   "execution_count": 156,
   "id": "ba082773-d0f1-41d9-927e-bc888514144f",
   "metadata": {},
   "outputs": [
    {
     "name": "stdin",
     "output_type": "stream",
     "text": [
      "Enter Your Name: Faith Githaiga\n",
      "Enter your python score: 70\n",
      "Enter your AI score: 80\n",
      "Enter your Maths score: 60\n"
     ]
    },
    {
     "name": "stdout",
     "output_type": "stream",
     "text": [
      "Student Name: Faith Githaiga \n",
      " Average Score: 70.0 \n",
      " Grade:A \n",
      " Comment:Excellent\n"
     ]
    }
   ],
   "source": [
    "def std_grading(name, python, AI, Maths):\n",
    "    avg_score=(python + AI+ Maths)/3\n",
    "    if avg_score>=70:\n",
    "        print('Student Name:', name,'\\n','Average Score:', avg_score,'\\n','Grade:A','\\n','Comment:Excellent')\n",
    "\n",
    "    elif avg_score >= 60:\n",
    "                print('Average Score:', avg_score,'\\n','Grade:B','\\n','Comment:Very Good')\n",
    "        \n",
    "    elif 50 <= avg_score > 60:\n",
    "\n",
    "                print('Student Name:',name,'\\n','Average Score:', avg_score,'\\n','Grade:B','\\n','Comment:Very Good')\n",
    "            \n",
    "    elif 40 <= avg_score > 50:\n",
    "                print('Student Name:',name,'\\n','Average Score:', avg_score,'\\n','Grade:c','\\n','Comment:Fair')\n",
    "        \n",
    "    else:\n",
    "            print('Student Name:',name,'\\n','Average Score:', avg_score,'\\n','Grade:D','\\n','Comment:Fail')\n",
    "\n",
    "\n",
    "name = input('Enter Your Name:')\n",
    "#python1 =input('Enter Your python score:')\n",
    "#python2=float(python1)\n",
    "\n",
    "python=float(input('Enter your python score:'))\n",
    "AI=float(input('Enter your AI score:'))\n",
    "Maths=float(input('Enter your Maths score:'))\n",
    "\n",
    "\n",
    "std_grading(name,python,AI,Maths)\n"
   ]
  },
  {
   "cell_type": "code",
   "execution_count": null,
   "id": "fdd6c9ab-d3a6-438e-9865-dd1793e68d86",
   "metadata": {},
   "outputs": [],
   "source": []
  }
 ],
 "metadata": {
  "kernelspec": {
   "display_name": "Python [conda env:base] *",
   "language": "python",
   "name": "conda-base-py"
  },
  "language_info": {
   "codemirror_mode": {
    "name": "ipython",
    "version": 3
   },
   "file_extension": ".py",
   "mimetype": "text/x-python",
   "name": "python",
   "nbconvert_exporter": "python",
   "pygments_lexer": "ipython3",
   "version": "3.11.7"
  }
 },
 "nbformat": 4,
 "nbformat_minor": 5
}
